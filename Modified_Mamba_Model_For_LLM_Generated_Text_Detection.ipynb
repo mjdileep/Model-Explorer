{
  "cells": [
    {
      "cell_type": "markdown",
      "metadata": {
        "id": "view-in-github",
        "colab_type": "text"
      },
      "source": [
        "<a href=\"https://colab.research.google.com/github/mjdileep/Model-Explorer/blob/main/Modified_Mamba_Model_For_LLM_Generated_Text_Detection.ipynb\" target=\"_parent\"><img src=\"https://colab.research.google.com/assets/colab-badge.svg\" alt=\"Open In Colab\"/></a>"
      ]
    },
    {
      "cell_type": "code",
      "execution_count": null,
      "metadata": {
        "colab": {
          "base_uri": "https://localhost:8080/"
        },
        "id": "wglQ4dBvdwFA",
        "outputId": "a4386202-a5c8-45ce-b4c6-baa45d3dd506"
      },
      "outputs": [
        {
          "output_type": "stream",
          "name": "stdout",
          "text": [
            "Mounted at /content/drive\n"
          ]
        }
      ],
      "source": [
        "from google.colab import drive\n",
        "drive.mount('/content/drive')"
      ]
    },
    {
      "cell_type": "code",
      "execution_count": null,
      "metadata": {
        "colab": {
          "base_uri": "https://localhost:8080/"
        },
        "id": "sH2auYW-zWkV",
        "outputId": "3f6f54bf-4678-4cae-aee4-6d9e540b2d68"
      },
      "outputs": [
        {
          "output_type": "stream",
          "name": "stdout",
          "text": [
            "\u001b[?25l     \u001b[90m━━━━━━━━━━━━━━━━━━━━━━━━━━━━━━━━━━━━━━━━\u001b[0m \u001b[32m0.0/44.6 kB\u001b[0m \u001b[31m?\u001b[0m eta \u001b[36m-:--:--\u001b[0m\r\u001b[2K     \u001b[90m━━━━━━━━━━━━━━━━━━━━━━━━━━━━━━━━━━━━━━━━\u001b[0m \u001b[32m44.6/44.6 kB\u001b[0m \u001b[31m1.3 MB/s\u001b[0m eta \u001b[36m0:00:00\u001b[0m\n",
            "\u001b[?25h"
          ]
        }
      ],
      "source": [
        "!pip -q install einops"
      ]
    },
    {
      "cell_type": "code",
      "execution_count": null,
      "metadata": {
        "id": "PbAeH2BsfTcu"
      },
      "outputs": [],
      "source": [
        "import numpy as np\n",
        "import pandas as pd\n",
        "import torch\n",
        "import torch.nn as nn\n",
        "import os\n",
        "import gc\n",
        "import math\n",
        "import random\n",
        "import glob, os\n",
        "from sklearn import set_config\n",
        "from sklearn.model_selection import train_test_split\n",
        "from torch.utils.data import Dataset, DataLoader\n",
        "from sklearn.model_selection import StratifiedKFold\n",
        "from tqdm import tqdm\n",
        "\n",
        "set_config(transform_output = 'pandas')\n",
        "pd.options.mode.chained_assignment = None\n",
        "from transformers import GPT2Tokenizer\n",
        "\n",
        "tokenizer = GPT2Tokenizer.from_pretrained(\"gpt2\")\n",
        "seq_length = 128\n",
        "unk_token_id = tokenizer.convert_tokens_to_ids('<|unk|>')"
      ]
    },
    {
      "cell_type": "code",
      "execution_count": null,
      "metadata": {
        "id": "nTB1hUVzfWj4",
        "colab": {
          "base_uri": "https://localhost:8080/"
        },
        "outputId": "af9e50bd-46b7-4e80-eef7-bdf43768504e"
      },
      "outputs": [
        {
          "output_type": "execute_result",
          "data": {
            "text/plain": [
              "(44868, 5)"
            ]
          },
          "metadata": {},
          "execution_count": 14
        }
      ],
      "source": [
        "train_essays = pd.read_csv('/content/drive/MyDrive/AIML/llm_detect/train_v2_drcat_02.csv')\n",
        "\n",
        "train_essays.rename(columns={\"label\": \"generated\"}, inplace=True)\n",
        "train_essays = train_essays.drop_duplicates(subset=['text'])\n",
        "train_essays = train_essays[train_essays['generated'].notnull()]\n",
        "train_essays.shape"
      ]
    },
    {
      "cell_type": "code",
      "execution_count": null,
      "metadata": {
        "colab": {
          "base_uri": "https://localhost:8080/"
        },
        "id": "qbTyHzSB5wnO",
        "outputId": "7f019b70-7a19-4ddc-b77d-4bc1611d398d"
      },
      "outputs": [
        {
          "output_type": "execute_result",
          "data": {
            "text/plain": [
              "(7071, 6)"
            ]
          },
          "metadata": {},
          "execution_count": 15
        }
      ],
      "source": [
        "ext_train_essays = pd.read_csv('/content/drive/MyDrive/AIML/llm_detect/external_data.csv')\n",
        "ext_train_essays.rename(columns={\"label\": \"generated\"}, inplace=True)\n",
        "ext_train_essays = ext_train_essays.drop_duplicates(subset=['text'])\n",
        "ext_train_essays = ext_train_essays[ext_train_essays['generated'].notnull()]\n",
        "ext_train_essays.shape"
      ]
    },
    {
      "cell_type": "code",
      "source": [
        "train_essays[\"tokens\"] = train_essays.text.apply(lambda x: torch.tensor(tokenizer(x)[\"input_ids\"]))\n",
        "ext_train_essays[\"tokens\"] = ext_train_essays.text.apply(lambda x: torch.tensor(tokenizer(x)[\"input_ids\"]))\n"
      ],
      "metadata": {
        "id": "_GBey42N5uiy"
      },
      "execution_count": null,
      "outputs": []
    },
    {
      "cell_type": "code",
      "execution_count": null,
      "metadata": {
        "id": "59iHDWWc1Op4"
      },
      "outputs": [],
      "source": [
        "#train_essays.to_pickle(\"/content/drive/MyDrive/AIML/llm_detect/train_essays_tiktoken.pt\")\n",
        "train_essays = pd.read_pickle(\"/content/drive/MyDrive/AIML/llm_detect/train_essays_tiktoken.pt\")\n",
        "#ext_train_essays.to_pickle(\"/content/drive/MyDrive/AIML/llm_detect/ext_train_essays_tiktoken.pt\")\n",
        "ext_train_essays = pd.read_pickle(\"/content/drive/MyDrive/AIML/llm_detect/ext_train_essays_tiktoken.pt\")"
      ]
    },
    {
      "cell_type": "code",
      "execution_count": null,
      "metadata": {
        "id": "vnHaxhzyzMXc"
      },
      "outputs": [],
      "source": [
        "columns = ['Phones and driving', 'Car-free cities', 'Summer projects',\n",
        "       'A Cowboy Who Rode the Waves',\n",
        "       'Mandatory extracurricular activities', 'Exploring Venus',\n",
        "       'Facial action coding system', 'The Face on Mars', 'Community service']\n",
        "train_set  = train_essays[~train_essays.prompt_name.isin(columns)]\n",
        "test_set  = train_essays[train_essays.prompt_name.isin(columns)]\n",
        "c1_shape = test_set[test_set[\"generated\"]==0].shape[0]\n",
        "c2_shape = test_set[test_set[\"generated\"]==1].shape[0]\n",
        "N = min(c1_shape, c2_shape)\n",
        "test_set = pd.concat([test_set[test_set[\"generated\"]==0].iloc[:N,:], test_set[test_set[\"generated\"]==1].iloc[:N,:]])\n",
        "if c1_shape>c2_shape:\n",
        "    train_set = pd.concat([train_set, test_set[test_set[\"generated\"]==0].iloc[N:,:]])\n",
        "else:\n",
        "    train_set = pd.concat([train_set, test_set[test_set[\"generated\"]==1].iloc[N:,:]])\n",
        "\n",
        "test_set = pd.concat([test_set, ext_train_essays])\n"
      ]
    },
    {
      "cell_type": "code",
      "execution_count": null,
      "metadata": {
        "colab": {
          "base_uri": "https://localhost:8080/"
        },
        "id": "okA28X3KzP-8",
        "outputId": "ef184067-a08e-4c86-d64d-5a83973a67c8"
      },
      "outputs": [
        {
          "output_type": "stream",
          "name": "stdout",
          "text": [
            "train_set 0: (12963, 6)\n",
            "train_set 1: (10582, 6)\n",
            "test_set1 0: (9553, 9)\n",
            "test_set1 1: (11348, 9)\n"
          ]
        }
      ],
      "source": [
        "print(\"train_set 0:\", train_set[train_set[\"generated\"]==0].shape)\n",
        "print(\"train_set 1:\", train_set[train_set[\"generated\"]==1].shape)\n",
        "\n",
        "print(\"test_set1 0:\", test_set[test_set[\"generated\"]==0].shape)\n",
        "print(\"test_set1 1:\", test_set[test_set[\"generated\"]==1].shape)"
      ]
    },
    {
      "cell_type": "code",
      "source": [
        "tokenized_text = test_set.tokens.tolist()\n",
        "\n",
        "# Function to generate input-output pairs for pre-training\n",
        "def generate_dataset(tokenized_text, min_seq_lenght = 64, max_seq_length=128):\n",
        "    dataset = []\n",
        "    for tokens in tokenized_text:\n",
        "        for i in range(min_seq_lenght, len(tokens), 32):\n",
        "            # Randomly select a sequence length up to max_sequence_length\n",
        "            s = random.randint(min_seq_lenght, min(max_seq_length, i+1))\n",
        "            input_sequence = tokens[i-s:i]\n",
        "            target_word = tokens[i]\n",
        "            dataset.append((input_sequence, target_word))\n",
        "    return dataset\n",
        "\n",
        "# Generate the dataset\n",
        "pretraining_dataset = generate_dataset(tokenized_text)\n"
      ],
      "metadata": {
        "id": "skGxC-AoxLBS"
      },
      "execution_count": null,
      "outputs": []
    },
    {
      "cell_type": "code",
      "source": [
        "class PretrainDataset(Dataset):\n",
        "    def __init__(self, data):\n",
        "        self.data = pretraining_dataset\n",
        "\n",
        "    def __len__(self):\n",
        "        return len(self.data)\n",
        "\n",
        "    def __getitem__(self, index):\n",
        "        x = self.data[index][0]\n",
        "        y = self.data[index][1]\n",
        "        if x.shape[0]<seq_length:\n",
        "            x = torch.cat([torch.full((seq_length-x.shape[0],), 50256), x])\n",
        "        return x, y\n",
        "\n",
        "dataset_pretrain = PretrainDataset(pretraining_dataset)"
      ],
      "metadata": {
        "id": "L3E-czYY3YTb"
      },
      "execution_count": null,
      "outputs": []
    },
    {
      "cell_type": "code",
      "execution_count": null,
      "metadata": {
        "id": "5w137kZ-0IUC"
      },
      "outputs": [],
      "source": [
        "from __future__ import annotations\n",
        "import math\n",
        "import json\n",
        "import torch\n",
        "import torch.nn as nn\n",
        "import torch.nn.functional as F\n",
        "from dataclasses import dataclass\n",
        "from einops import rearrange, repeat, einsum\n",
        "\n",
        "\n",
        "@dataclass\n",
        "class ModelArgs:\n",
        "    d_model: int\n",
        "    n_layer: int\n",
        "    vocab_size: int\n",
        "    d_state: int = 16\n",
        "    expand: int = 2\n",
        "    dt_rank: Union[int, str] = 'auto'\n",
        "    d_conv: int = 4\n",
        "    pad_vocab_size_multiple: int = 8\n",
        "    conv_bias: bool = True\n",
        "    bias: bool = False\n",
        "\n",
        "    def __post_init__(self):\n",
        "        self.d_inner = int(self.expand * self.d_model)\n",
        "\n",
        "        if self.dt_rank == 'auto':\n",
        "            self.dt_rank = math.ceil(self.d_model / 16)\n",
        "\n",
        "        if self.vocab_size % self.pad_vocab_size_multiple != 0:\n",
        "            self.vocab_size += (self.pad_vocab_size_multiple\n",
        "                                - self.vocab_size % self.pad_vocab_size_multiple)\n",
        "\n",
        "\n",
        "class ResidualBlock(nn.Module):\n",
        "    def __init__(self, args: ModelArgs):\n",
        "        \"\"\"Simple block wrapping Mamba block with normalization and residual connection.\"\"\"\n",
        "        super().__init__()\n",
        "        self.args = args\n",
        "        self.mixer = MambaBlock(args)\n",
        "        self.norm = RMSNorm(args.d_model)\n",
        "\n",
        "\n",
        "    def forward(self, x):\n",
        "        \"\"\"\n",
        "        Args:\n",
        "            x: shape (b, l, d)    (See Glossary at top for definitions of b, l, d_in, n...)\n",
        "\n",
        "        Returns:\n",
        "            output: shape (b, l, d)\n",
        "\n",
        "        Official Implementation:\n",
        "            Block.forward(), https://github.com/state-spaces/mamba/blob/main/mamba_ssm/modules/mamba_simple.py#L297\n",
        "\n",
        "            Note: the official repo chains residual blocks that look like\n",
        "                [Add -> Norm -> Mamba] -> [Add -> Norm -> Mamba] -> [Add -> Norm -> Mamba] -> ...\n",
        "            where the first Add is a no-op. This is purely for performance reasons as this\n",
        "            allows them to fuse the Add->Norm.\n",
        "\n",
        "            We instead implement our blocks as the more familiar, simpler, and numerically equivalent\n",
        "                [Norm -> Mamba -> Add] -> [Norm -> Mamba -> Add] -> [Norm -> Mamba -> Add] -> ....\n",
        "\n",
        "        \"\"\"\n",
        "        output = self.mixer(self.norm(x)) + x\n",
        "\n",
        "        return output\n",
        "\n",
        "\n",
        "class MambaBlock(nn.Module):\n",
        "    def __init__(self, args: ModelArgs):\n",
        "        \"\"\"A single Mamba block, as described in Figure 3 in Section 3.4 in the Mamba paper [1].\"\"\"\n",
        "        super().__init__()\n",
        "        self.args = args\n",
        "\n",
        "        self.in_proj = nn.Linear(args.d_model, args.d_inner * 2, bias=args.bias)\n",
        "\n",
        "        self.conv1d = nn.Conv1d(\n",
        "            in_channels=args.d_inner,\n",
        "            out_channels=args.d_inner,\n",
        "            bias=args.conv_bias,\n",
        "            kernel_size=args.d_conv,\n",
        "            groups=args.d_inner,\n",
        "            padding=args.d_conv - 1,\n",
        "        )\n",
        "\n",
        "        # x_proj takes in `x` and outputs the input-specific Δ, B, C\n",
        "        self.x_proj = nn.Linear(args.d_inner, args.dt_rank + args.d_state * 2, bias=False)\n",
        "\n",
        "        # dt_proj projects Δ from dt_rank to d_in\n",
        "        self.dt_proj = nn.Linear(args.dt_rank, args.d_inner, bias=True)\n",
        "\n",
        "        A = repeat(torch.arange(1, args.d_state + 1), 'n -> d n', d=args.d_inner)\n",
        "        self.A_log = nn.Parameter(torch.log(A))\n",
        "        self.D = nn.Parameter(torch.ones(args.d_inner))\n",
        "        self.out_proj = nn.Linear(args.d_inner, args.d_model, bias=args.bias)\n",
        "\n",
        "\n",
        "    def forward(self, x):\n",
        "        \"\"\"Mamba block forward. This looks the same as Figure 3 in Section 3.4 in the Mamba paper [1].\n",
        "\n",
        "        Args:\n",
        "            x: shape (b, l, d)    (See Glossary at top for definitions of b, l, d_in, n...)\n",
        "\n",
        "        Returns:\n",
        "            output: shape (b, l, d)\n",
        "\n",
        "        Official Implementation:\n",
        "            class Mamba, https://github.com/state-spaces/mamba/blob/main/mamba_ssm/modules/mamba_simple.py#L119\n",
        "            mamba_inner_ref(), https://github.com/state-spaces/mamba/blob/main/mamba_ssm/ops/selective_scan_interface.py#L311\n",
        "\n",
        "        \"\"\"\n",
        "        (b, l, d) = x.shape\n",
        "\n",
        "        x_and_res = self.in_proj(x)  # shape (b, l, 2 * d_in)\n",
        "        (x, res) = x_and_res.split(split_size=[self.args.d_inner, self.args.d_inner], dim=-1)\n",
        "\n",
        "        x = rearrange(x, 'b l d_in -> b d_in l')\n",
        "        x = self.conv1d(x)[:, :, :l]\n",
        "        x = rearrange(x, 'b d_in l -> b l d_in')\n",
        "\n",
        "        x = F.silu(x)\n",
        "\n",
        "        y = self.ssm(x)\n",
        "\n",
        "        y = y * F.silu(res)\n",
        "\n",
        "        output = self.out_proj(y)\n",
        "\n",
        "        return output\n",
        "\n",
        "\n",
        "    def ssm(self, x):\n",
        "        \"\"\"Runs the SSM. See:\n",
        "            - Algorithm 2 in Section 3.2 in the Mamba paper [1]\n",
        "            - run_SSM(A, B, C, u) in The Annotated S4 [2]\n",
        "\n",
        "        Args:\n",
        "            x: shape (b, l, d_in)    (See Glossary at top for definitions of b, l, d_in, n...)\n",
        "\n",
        "        Returns:\n",
        "            output: shape (b, l, d_in)\n",
        "\n",
        "        Official Implementation:\n",
        "            mamba_inner_ref(), https://github.com/state-spaces/mamba/blob/main/mamba_ssm/ops/selective_scan_interface.py#L311\n",
        "\n",
        "        \"\"\"\n",
        "        (d_in, n) = self.A_log.shape\n",
        "\n",
        "        # Compute ∆ A B C D, the state space parameters.\n",
        "        #     A, D are input independent (see Mamba paper [1] Section 3.5.2 \"Interpretation of A\" for why A isn't selective)\n",
        "        #     ∆, B, C are input-dependent (this is a key difference between Mamba and the linear time invariant S4,\n",
        "        #                                  and is why Mamba is called **selective** state spaces)\n",
        "\n",
        "        A = -torch.exp(self.A_log.float())  # shape (d_in, n)\n",
        "        D = self.D.float()\n",
        "\n",
        "        x_dbl = self.x_proj(x)  # (b, l, dt_rank + 2*n)\n",
        "\n",
        "        (delta, B, C) = x_dbl.split(split_size=[self.args.dt_rank, n, n], dim=-1)  # delta: (b, l, dt_rank). B, C: (b, l, n)\n",
        "        delta = F.softplus(self.dt_proj(delta))  # (b, l, d_in)\n",
        "\n",
        "        y = self.selective_scan(x, delta, A, B, C, D)  # This is similar to run_SSM(A, B, C, u) in The Annotated S4 [2]\n",
        "\n",
        "        return y\n",
        "\n",
        "\n",
        "    def selective_scan(self, u, delta, A, B, C, D):\n",
        "        \"\"\"Does selective scan algorithm. See:\n",
        "            - Section 2 State Space Models in the Mamba paper [1]\n",
        "            - Algorithm 2 in Section 3.2 in the Mamba paper [1]\n",
        "            - run_SSM(A, B, C, u) in The Annotated S4 [2]\n",
        "\n",
        "        This is the classic discrete state space formula:\n",
        "            x(t + 1) = Ax(t) + Bu(t)\n",
        "            y(t)     = Cx(t) + Du(t)\n",
        "        except B and C (and the step size delta, which is used for discretization) are dependent on the input x(t).\n",
        "\n",
        "        Args:\n",
        "            u: shape (b, l, d_in)    (See Glossary at top for definitions of b, l, d_in, n...)\n",
        "            delta: shape (b, l, d_in)\n",
        "            A: shape (d_in, n)\n",
        "            B: shape (b, l, n)\n",
        "            C: shape (b, l, n)\n",
        "            D: shape (d_in,)\n",
        "\n",
        "        Returns:\n",
        "            output: shape (b, l, d_in)\n",
        "\n",
        "        Official Implementation:\n",
        "            selective_scan_ref(), https://github.com/state-spaces/mamba/blob/main/mamba_ssm/ops/selective_scan_interface.py#L86\n",
        "            Note: I refactored some parts out of `selective_scan_ref` out, so the functionality doesn't match exactly.\n",
        "\n",
        "        \"\"\"\n",
        "        (b, l, d_in) = u.shape\n",
        "        n = A.shape[1]\n",
        "\n",
        "        # Discretize continuous parameters (A, B)\n",
        "        # - A is discretized using zero-order hold (ZOH) discretization (see Section 2 Equation 4 in the Mamba paper [1])\n",
        "        # - B is discretized using a simplified Euler discretization instead of ZOH. From a discussion with authors:\n",
        "        #   \"A is the more important term and the performance doesn't change much with the simplification on B\"\n",
        "        deltaA = torch.exp(einsum(delta, A, 'b l d_in, d_in n -> b l d_in n'))\n",
        "        deltaB_u = einsum(delta, B, u, 'b l d_in, b l n, b l d_in -> b l d_in n')\n",
        "\n",
        "        # Perform selective scan (see scan_SSM() in The Annotated S4 [2])\n",
        "        x = torch.zeros((b, d_in, n), device=deltaA.device)\n",
        "        ys = []\n",
        "        for i in range(l):\n",
        "            x = deltaA[:, i] * x + deltaB_u[:, i]\n",
        "            y = einsum(x, C[:, i, :], 'b d_in n, b n -> b d_in')\n",
        "            ys.append(y)\n",
        "        y = torch.stack(ys, dim=1)  # shape (b, l, d_in)\n",
        "\n",
        "        y = y + u * D\n",
        "\n",
        "        return y\n",
        "\n",
        "\n",
        "class RMSNorm(nn.Module):\n",
        "    def __init__(self,\n",
        "                 d_model: int,\n",
        "                 eps: float = 1e-5):\n",
        "        super().__init__()\n",
        "        self.eps = eps\n",
        "        self.weight = nn.Parameter(torch.ones(d_model))\n",
        "\n",
        "\n",
        "    def forward(self, x):\n",
        "        output = x * torch.rsqrt(x.pow(2).mean(-1, keepdim=True) + self.eps) * self.weight\n",
        "\n",
        "        return output\n",
        "\n"
      ]
    },
    {
      "cell_type": "code",
      "execution_count": null,
      "metadata": {
        "id": "b3zKzJmUyJ5E"
      },
      "outputs": [],
      "source": [
        "n_dim = 32\n",
        "#device=\"cpu\"\n",
        "device=\"cuda\"\n",
        "n_layers = 2\n",
        "\n",
        "\n",
        "class FCBlock(nn.Module):\n",
        "    def __init__(self, dim_in, dim_out, dropout, act=\"RELU\"):\n",
        "        super().__init__()\n",
        "        self.fc = nn.Linear(dim_in, dim_out)\n",
        "        self.act = nn.RReLU()\n",
        "        self.d = nn.Dropout(dropout)\n",
        "    def forward(self, x):\n",
        "        return  self.d(self.act(self.fc(x)))\n",
        "\n",
        "\n",
        "class MambaLLM(nn.Module):\n",
        "    def __init__(self):\n",
        "      super().__init__()\n",
        "      self.args = ModelArgs(d_model= n_dim, n_layer=n_layers,vocab_size=50264)\n",
        "      self.embedding = nn.Embedding(self.args.vocab_size, n_dim)\n",
        "      self.layers = nn.ModuleList([ResidualBlock(self.args) for _ in range(self.args.n_layer)])\n",
        "      self.norm_f = RMSNorm(self.args.d_model)\n",
        "\n",
        "      self.lm_head = nn.Linear(self.args.d_model, self.args.vocab_size, bias=False)\n",
        "      self.lm_head.weight = self.embedding.weight\n",
        "\n",
        "    def forward(self, x, encode=False):\n",
        "        out = self.embedding(x)\n",
        "        for layer in self.layers:\n",
        "            out = layer(out)\n",
        "        out = self.norm_f(out)\n",
        "        if encode:\n",
        "            return out[:,-1,:]\n",
        "        return self.lm_head(out)[:,-1,:]\n",
        "\n",
        "\n",
        "mamba = MambaLLM().to(device)"
      ]
    },
    {
      "cell_type": "code",
      "source": [
        "# Initialize the model, loss function, and optimizer\n",
        "from torch.utils.data import DataLoader, random_split\n",
        "batch_size=128\n",
        "vocab_size = 50264\n",
        "criterion = nn.CrossEntropyLoss()\n",
        "optimizer = torch.optim.AdamW(mamba.parameters(), lr=1e-3)\n",
        "# Split the dataset into training and validation sets\n",
        "train_size = int(0.8 * len(dataset_pretrain))\n",
        "val_size = len(dataset_pretrain) - train_size\n",
        "train_dataset, val_dataset = random_split(dataset_pretrain, [train_size, val_size])\n",
        "\n",
        "# Create DataLoader for training and validation sets\n",
        "train_dataloader = DataLoader(train_dataset, batch_size=batch_size, shuffle=True)\n",
        "val_dataloader = DataLoader(val_dataset, batch_size=batch_size, shuffle=False)\n",
        "\n",
        "# Training loop\n",
        "num_epochs = 1\n",
        "\n",
        "for epoch in range(num_epochs):\n",
        "    mamba.train()\n",
        "    total_loss = 0\n",
        "    train_dataloader_iter = tqdm(train_dataloader, desc='', leave=True)\n",
        "    for batch in train_dataloader_iter:\n",
        "        input_sequences, target_words = batch\n",
        "        optimizer.zero_grad()\n",
        "        logits = mamba(input_sequences.to(device))\n",
        "        loss = criterion(logits.view(-1, vocab_size), target_words.to(device).view(-1))\n",
        "        loss.backward()\n",
        "        optimizer.step()\n",
        "        total_loss += loss.item()\n",
        "\n",
        "    average_loss = total_loss / len(train_dataloader)\n",
        "    print(f\"Epoch {epoch + 1}/{num_epochs}, Loss: {average_loss}\")\n",
        "\n",
        "# Validation loop\n",
        "mamba.eval()\n",
        "total_val_loss = 0\n",
        "\n",
        "with torch.no_grad():\n",
        "    val_dataloader_iter = tqdm(val_dataloader, desc='', leave=True)\n",
        "    for batch in val_dataloader_iter:\n",
        "        input_sequences, target_words = batch\n",
        "        logits = mamba(input_sequences.to(device))\n",
        "        val_loss = criterion(logits.view(-1, vocab_size), target_words.to(device).view(-1))\n",
        "        total_val_loss += val_loss.item()\n",
        "\n",
        "average_val_loss = total_val_loss / len(val_dataloader)\n",
        "print(f\"Validation Loss: {average_val_loss}\")\n",
        "\n",
        "# Save the trained model if needed\n",
        "torch.save({\n",
        "            'model_state_dict': mamba.state_dict(),\n",
        "            }, '/content/drive/MyDrive/AIML/llm_detect/models/pretrained_language_model.pth')\n",
        "\n",
        "del train_dataloader, val_dataloader\n",
        "gc.collect()\n",
        "torch.cuda.empty_cache()"
      ],
      "metadata": {
        "colab": {
          "base_uri": "https://localhost:8080/"
        },
        "id": "WWfDOkkF_LIW",
        "outputId": "0b21aa89-51e1-4906-f76a-176f9ff7a48d"
      },
      "execution_count": null,
      "outputs": [
        {
          "output_type": "stream",
          "name": "stderr",
          "text": [
            "100%|██████████| 1844/1844 [37:19<00:00,  1.21s/it]\n"
          ]
        },
        {
          "output_type": "stream",
          "name": "stdout",
          "text": [
            "Epoch 1/1, Loss: 18.25070194929127\n"
          ]
        },
        {
          "output_type": "stream",
          "name": "stderr",
          "text": [
            "100%|██████████| 461/461 [00:31<00:00, 14.73it/s]"
          ]
        },
        {
          "output_type": "stream",
          "name": "stdout",
          "text": [
            "Validation Loss: 12.457054694666004\n"
          ]
        },
        {
          "output_type": "stream",
          "name": "stderr",
          "text": [
            "\n"
          ]
        }
      ]
    },
    {
      "cell_type": "code",
      "source": [
        "def pad(tokens):\n",
        "    index = tokens.shape[0]\n",
        "    if index<seq_length:\n",
        "        tokens = torch.cat([torch.full((seq_length-tokens.shape[0],), 50256), tokens])\n",
        "    return tokens\n",
        "\n",
        "train_set[\"tokens\"] = train_set.tokens.apply(lambda x: pad(x))\n",
        "test_set[\"tokens\"] = test_set.tokens.apply(lambda x: pad(x))"
      ],
      "metadata": {
        "id": "SB22oEizyYGK"
      },
      "execution_count": null,
      "outputs": []
    },
    {
      "cell_type": "code",
      "source": [
        "class LLMDetectModel(nn.Module):\n",
        "    def __init__(self, weights_path):\n",
        "        super().__init__()\n",
        "        checkpoint = torch.load(weights_path, map_location=device)\n",
        "        self.mamba = MambaLLM()\n",
        "        self.mamba.load_state_dict(checkpoint['model_state_dict'])\n",
        "        self.mamba.lm_head.requires_grad = False\n",
        "\n",
        "        self.fc1 = FCBlock(n_dim, n_dim, 0.1)\n",
        "        self.fc2 = FCBlock(n_dim, n_dim, 0.1)\n",
        "        self.out = nn.Linear(n_dim, 2)\n",
        "\n",
        "\n",
        "    def forward(self, x):\n",
        "        out = self.mamba(x, encode=True)\n",
        "        out = self.fc2(self.fc1(out))\n",
        "        out = self.out(out)\n",
        "\n",
        "        return out.view(-1, 2).to(float)\n",
        "\n",
        "model = LLMDetectModel(\"/content/drive/MyDrive/AIML/llm_detect/models/pretrained_language_model.pth\").to(device)"
      ],
      "metadata": {
        "id": "JtLm6IBq-Zkh"
      },
      "execution_count": null,
      "outputs": []
    },
    {
      "cell_type": "code",
      "execution_count": null,
      "metadata": {
        "id": "zMb_48BJ58s9"
      },
      "outputs": [],
      "source": [
        "class CustomDataset(Dataset):\n",
        "    def __init__(self, data):\n",
        "        self.data = data[\"tokens\"]\n",
        "        self.targets = data[\"generated\"]\n",
        "\n",
        "    def __len__(self):\n",
        "        return len(self.data)\n",
        "\n",
        "    def __getitem__(self, index):\n",
        "        l = self.data.iloc[index].shape[0]\n",
        "        r = np.random.randint(0,l-seq_length+1)\n",
        "        x = self.data.iloc[index][r:r+seq_length]\n",
        "        y = self.targets.iloc[index]\n",
        "        return x, int(y)\n",
        "\n",
        "class CustomDataLoader(DataLoader):\n",
        "    def __init__(self, *args, **kwargs):\n",
        "        super(CustomDataLoader, self).__init__(*args, **kwargs)\n",
        "\n",
        "    def __iter__(self):\n",
        "        data_iter = super(CustomDataLoader, self).__iter__()\n",
        "        return data_iter\n",
        "dataset_train = CustomDataset(train_set)\n",
        "dataset_test = CustomDataset(test_set)"
      ]
    },
    {
      "cell_type": "code",
      "execution_count": null,
      "metadata": {
        "id": "gAIa59cSmxX_",
        "colab": {
          "base_uri": "https://localhost:8080/"
        },
        "outputId": "6f3c0e35-6624-495a-f3bf-de06c1174601"
      },
      "outputs": [
        {
          "output_type": "execute_result",
          "data": {
            "text/plain": [
              "<All keys matched successfully>"
            ]
          },
          "metadata": {},
          "execution_count": 32
        }
      ],
      "source": [
        "checkpoint = torch.load(\"/content/drive/MyDrive/AIML/llm_detect/models/model_last_alt.pt\", map_location=device)\n",
        "model.load_state_dict(checkpoint['model_state_dict'])"
      ]
    },
    {
      "cell_type": "code",
      "execution_count": null,
      "metadata": {
        "id": "_gjel0hQM58n"
      },
      "outputs": [],
      "source": [
        "max_test_auc=0.0"
      ]
    },
    {
      "cell_type": "code",
      "execution_count": null,
      "metadata": {
        "id": "RF9OgwucNk-Z"
      },
      "outputs": [],
      "source": [
        "from sklearn.metrics import roc_auc_score\n",
        "\n",
        "overfit_count=0\n",
        "patience = 100\n",
        "num_epochs = 1000\n",
        "learning_rate = 1e-3\n",
        "batch_size = 64\n",
        "epoch_gamma = None\n",
        "lambda_reg = 1e-3\n",
        "\n",
        "optimizer = torch.optim.Adam(model.parameters(), lr=learning_rate)\n",
        "\n",
        "    # Create data loaders for training and validation using your custom DataLoader\n",
        "train_loader = DataLoader(dataset=dataset_train, batch_size=batch_size, shuffle=True)\n",
        "valid_loader = DataLoader(dataset=dataset_test, batch_size=512)\n",
        "# Train your model\n",
        "for epoch in range(num_epochs):\n",
        "    model.train()\n",
        "    train_loader_iter = tqdm(train_loader, desc=f'Epoch {epoch + 1}/{num_epochs}', leave=True)\n",
        "    whole_y_pred=np.array([])\n",
        "    whole_y_t=np.array([])\n",
        "    i = 0\n",
        "    train_loss = 0.0\n",
        "    for inputs, targets in train_loader_iter:\n",
        "        optimizer.zero_grad()\n",
        "        outputs = model(inputs.to(device))\n",
        "        y_pred = nn.functional.softmax(outputs)[:,-1]\n",
        "        regularization_term = 0.5 * lambda_reg * sum(p.norm(2) ** 2 for p in model.parameters())\n",
        "        loss = nn.functional.cross_entropy(outputs, targets.to(device=device).view(-1))\n",
        "        reg_loss = loss+ regularization_term\n",
        "        reg_loss.backward()\n",
        "        optimizer.step()\n",
        "        whole_y_pred = np.append(whole_y_pred, y_pred.clone().detach().cpu().numpy())\n",
        "        whole_y_t    = np.append(whole_y_t, targets.clone().detach().cpu().numpy())\n",
        "        i+=1\n",
        "        train_loss += loss.item()\n",
        "    train_loss/=i\n",
        "    # Validation\n",
        "    model.eval()\n",
        "\n",
        "    all_test_preds = np.array([])\n",
        "    all_test_t = np.array([])\n",
        "    i=0\n",
        "    test_loss = 0.0\n",
        "    with torch.no_grad():\n",
        "        valid_loader_iter = tqdm(valid_loader, desc='', leave=True)\n",
        "        for  inputs, targets in valid_loader_iter:\n",
        "            outputs = model(inputs.to(device))\n",
        "            loss = nn.functional.cross_entropy(outputs, targets.to(device=device).view(-1))\n",
        "            y_pred = nn.functional.softmax(outputs)[:,-1].detach().cpu().numpy()\n",
        "            y_t = targets.detach().cpu().numpy()\n",
        "            all_test_preds=np.concatenate([all_test_preds,y_pred],axis=0)\n",
        "            all_test_t = np.concatenate([all_test_t,y_t],axis=0)\n",
        "            test_loss+=loss.item()\n",
        "            i+=1\n",
        "    test_loss/=i\n",
        "    s = 1000\n",
        "    n2 = np.random.randint(0,len(whole_y_pred)-s)\n",
        "    whole_y_pred=np.concatenate([all_test_preds,whole_y_pred[n2:n2+s]],axis=0)\n",
        "    whole_y_t=np.concatenate([all_test_t,whole_y_t[n2:n2+s]],axis=0)\n",
        "    try:\n",
        "        combined_roc_val = roc_auc_score(whole_y_pred>=0.5, whole_y_t)\n",
        "    except:\n",
        "        combined_roc_val=-1\n",
        "    print(f\"Epoch {epoch + 1}/{num_epochs}, Train Loss: {train_loss}, Validation Loss: {test_loss},  Combined AUC: {combined_roc_val}\")\n",
        "\n",
        "    if max_test_auc < combined_roc_val:\n",
        "        max_test_auc = combined_roc_val\n",
        "        torch.save({\n",
        "                    'model_state_dict': model.state_dict(),\n",
        "                    'optimizer_state_dict': optimizer.state_dict(),\n",
        "                    'loss': combined_roc_val,\n",
        "                    }, \"/content/drive/MyDrive/AIML/llm_detect/models/model_best_alt.pt\")\n",
        "        overfit_count=0\n",
        "    else:\n",
        "        overfit_count +=1\n",
        "        if overfit_count> patience:\n",
        "            break\n",
        "\n",
        "    torch.save({\n",
        "                'model_state_dict': model.state_dict(),\n",
        "                'optimizer_state_dict': optimizer.state_dict(),\n",
        "                'loss': combined_roc_val,\n",
        "                }, \"/content/drive/MyDrive/AIML/llm_detect/models/model_last_alt.pt\")\n",
        "del train_loader\n",
        "gc.collect()\n",
        "torch.cuda.empty_cache()\n"
      ]
    },
    {
      "cell_type": "code",
      "source": [
        "import numpy as np\n",
        "import matplotlib.pyplot as plt\n",
        "\n",
        "# Generate a random NumPy array for demonstration purposes\n",
        "data = whole_y_pred\n",
        "\n",
        "# Plot the histogram\n",
        "plt.hist(data, bins=100, color='blue', alpha=0.7)\n",
        "plt.title('Histogram of the NumPy Array')\n",
        "plt.xlabel('Values')\n",
        "plt.ylabel('Frequency')\n",
        "plt.grid(True)\n",
        "plt.show()\n"
      ],
      "metadata": {
        "colab": {
          "base_uri": "https://localhost:8080/",
          "height": 472
        },
        "id": "m8okJ_zsztzw",
        "outputId": "a3b67de8-03ea-4919-fedb-d4525b7ab611"
      },
      "execution_count": null,
      "outputs": [
        {
          "output_type": "display_data",
          "data": {
            "text/plain": [
              "<Figure size 640x480 with 1 Axes>"
            ],
            "image/png": "[encoded data removed]"
          },
          "metadata": {}
        }
      ]
    },
    {
      "cell_type": "code",
      "source": [
        "data = all_test_preds\n",
        "\n",
        "# Plot the histogram\n",
        "plt.hist(data, bins=100, color='blue', alpha=0.7)\n",
        "plt.title('Histogram of the NumPy Array')\n",
        "plt.xlabel('Values')\n",
        "plt.ylabel('Frequency')\n",
        "plt.grid(True)\n",
        "plt.show()\n"
      ],
      "metadata": {
        "colab": {
          "base_uri": "https://localhost:8080/",
          "height": 472
        },
        "id": "09adjPkX0PrZ",
        "outputId": "01aff955-849d-4906-e966-3d96c945841d"
      },
      "execution_count": null,
      "outputs": [
        {
          "output_type": "display_data",
          "data": {
            "text/plain": [
              "<Figure size 640x480 with 1 Axes>"
            ],
            "image/png": "[encoded data removed]"
          },
          "metadata": {}
        }
      ]
    },
    {
      "cell_type": "code",
      "execution_count": null,
      "metadata": {
        "id": "f7EejSG7Bz_t"
      },
      "outputs": [],
      "source": [
        "from google.colab import runtime\n",
        "runtime.unassign()"
      ]
    },
    {
      "cell_type": "code",
      "execution_count": null,
      "metadata": {
        "colab": {
          "base_uri": "https://localhost:8080/"
        },
        "id": "8Sm5c3apM1uN",
        "outputId": "30d5f5e2-c24f-487c-e85a-3886f21c59d5"
      },
      "outputs": [
        {
          "data": {
            "text/plain": [
              "0.9664968625217287"
            ]
          },
          "execution_count": 14,
          "metadata": {},
          "output_type": "execute_result"
        }
      ],
      "source": [
        "max_test_auc"
      ]
    },
    {
      "cell_type": "code",
      "execution_count": null,
      "metadata": {
        "id": "arF1IKdomdz7",
        "colab": {
          "base_uri": "https://localhost:8080/"
        },
        "outputId": "f2dea3fd-9ad2-4169-85ca-da6106d56121"
      },
      "outputs": [
        {
          "output_type": "execute_result",
          "data": {
            "text/plain": [
              "(20901,)"
            ]
          },
          "metadata": {},
          "execution_count": 15
        }
      ],
      "source": [
        "all_test_t.shape"
      ]
    },
    {
      "cell_type": "code",
      "source": [],
      "metadata": {
        "id": "RoK13vJBphnE"
      },
      "execution_count": null,
      "outputs": []
    }
  ],
  "metadata": {
    "accelerator": "GPU",
    "colab": {
      "provenance": [],
      "gpuType": "T4",
      "authorship_tag": "ABX9TyP9Z0jUZ4f+Q5n+iIaCr+Mz",
      "include_colab_link": true
    },
    "kernelspec": {
      "display_name": "Python 3",
      "name": "python3"
    },
    "language_info": {
      "name": "python"
    }
  },
  "nbformat": 4,
  "nbformat_minor": 0
}